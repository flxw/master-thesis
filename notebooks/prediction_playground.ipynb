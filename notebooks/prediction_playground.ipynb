{
 "cells": [
  {
   "cell_type": "code",
   "execution_count": 1,
   "metadata": {},
   "outputs": [
    {
     "name": "stderr",
     "output_type": "stream",
     "text": [
      "/opt/anaconda/lib/python3.6/site-packages/h5py/__init__.py:36: FutureWarning: Conversion of the second argument of issubdtype from `float` to `np.floating` is deprecated. In future, it will be treated as `np.float64 == np.dtype(float).type`.\n",
      "  from ._conv import register_converters as _register_converters\n",
      "Using TensorFlow backend.\n"
     ]
    }
   ],
   "source": [
    "from opyenxes.model.XLog import XLog\n",
    "from opyenxes.data_in.XUniversalParser import XUniversalParser\n",
    "from opyenxes.classification.XEventAttributeClassifier import XEventAttributeClassifier\n",
    "\n",
    "#from keras.models import Sequential\n",
    "#from keras.layers import Dense\n",
    "#from keras.layers import Dropout\n",
    "#from keras.layers import LSTM\n",
    "#from keras.callbacks import ModelCheckpoint\n",
    "#from keras.utils import np_utils\n",
    "import keras\n",
    "\n",
    "import numpy as np\n",
    "import itertools"
   ]
  },
  {
   "cell_type": "code",
   "execution_count": 2,
   "metadata": {},
   "outputs": [
    {
     "name": "stdout",
     "output_type": "stream",
     "text": [
      "Unknown extension: http://www.xes-standard.org/meta_time.xesext\n",
      "Unknown extension: http://www.xes-standard.org/meta_life.xesext\n",
      "Unknown extension: http://www.xes-standard.org/meta_org.xesext\n",
      "Unknown extension: http://www.xes-standard.org/meta_concept.xesext\n",
      "Unknown extension: http://www.xes-standard.org/meta_3TU.xesext\n",
      "Unknown extension: http://www.xes-standard.org/meta_general.xesext\n"
     ]
    },
    {
     "name": "stderr",
     "output_type": "stream",
     "text": [
      "ERROR:root:Internal Python error in the inspect module.\n",
      "Below is the traceback from this internal error.\n",
      "\n"
     ]
    },
    {
     "name": "stdout",
     "output_type": "stream",
     "text": [
      "Traceback (most recent call last):\n",
      "  File \"/opt/anaconda/lib/python3.6/site-packages/IPython/core/interactiveshell.py\", line 2963, in run_code\n",
      "    exec(code_obj, self.user_global_ns, self.user_ns)\n",
      "  File \"<ipython-input-2-302dbd98f559>\", line 4, in <module>\n",
      "    bpic2011_log = XUniversalParser().parse(bpic2011_file)[0]\n",
      "  File \"/opt/anaconda/lib/python3.6/site-packages/opyenxes/data_in/XUniversalParser.py\", line 38, in parse\n",
      "    result = parse.parse(file)\n",
      "  File \"/opt/anaconda/lib/python3.6/site-packages/opyenxes/data_in/XesXmlParser.py\", line 48, in parse\n",
      "    xml_parse(file, handler)\n",
      "  File \"/opt/anaconda/lib/python3.6/xml/sax/__init__.py\", line 33, in parse\n",
      "    parser.parse(source)\n",
      "  File \"/opt/anaconda/lib/python3.6/xml/sax/expatreader.py\", line 111, in parse\n",
      "    xmlreader.IncrementalParser.parse(self, source)\n",
      "  File \"/opt/anaconda/lib/python3.6/xml/sax/xmlreader.py\", line 125, in parse\n",
      "    self.feed(buffer)\n",
      "  File \"/opt/anaconda/lib/python3.6/xml/sax/expatreader.py\", line 217, in feed\n",
      "    self._parser.Parse(data, isFinal)\n",
      "  File \"/tmp/build/80754af9/python_1525016347942/work/Modules/pyexpat.c\", line 414, in StartElement\n",
      "  File \"/opt/anaconda/lib/python3.6/xml/sax/expatreader.py\", line 333, in start_element\n",
      "    self._cont_handler.startElement(name, AttributesImpl(attrs))\n",
      "  File \"/opt/anaconda/lib/python3.6/site-packages/opyenxes/data_in/XesXmlParser.py\", line 105, in startElement\n",
      "    self.__event = XesXmlParser().factory.create_event()\n",
      "  File \"/opt/anaconda/lib/python3.6/site-packages/opyenxes/factory/XFactory.py\", line 64, in create_event\n",
      "    return XEvent()\n",
      "  File \"/opt/anaconda/lib/python3.6/site-packages/opyenxes/model/XEvent.py\", line 24, in __init__\n",
      "    self.__id = XIDFactory.create_id()\n",
      "  File \"/opt/anaconda/lib/python3.6/site-packages/opyenxes/id/XIDFactory.py\", line 19, in create_id\n",
      "    return XID()\n",
      "  File \"/opt/anaconda/lib/python3.6/site-packages/opyenxes/id/XID.py\", line 27, in __init__\n",
      "    self.__uuid = uuid.uuid4()\n",
      "  File \"/opt/anaconda/lib/python3.6/uuid.py\", line 623, in uuid4\n",
      "    return UUID(bytes=os.urandom(16), version=4)\n",
      "KeyboardInterrupt\n",
      "\n",
      "During handling of the above exception, another exception occurred:\n",
      "\n",
      "Traceback (most recent call last):\n",
      "  File \"/opt/anaconda/lib/python3.6/site-packages/IPython/core/interactiveshell.py\", line 1863, in showtraceback\n",
      "    stb = value._render_traceback_()\n",
      "AttributeError: 'KeyboardInterrupt' object has no attribute '_render_traceback_'\n",
      "\n",
      "During handling of the above exception, another exception occurred:\n",
      "\n",
      "Traceback (most recent call last):\n",
      "  File \"/opt/anaconda/lib/python3.6/site-packages/IPython/core/ultratb.py\", line 1095, in get_records\n",
      "    return _fixed_getinnerframes(etb, number_of_lines_of_context, tb_offset)\n",
      "  File \"/opt/anaconda/lib/python3.6/site-packages/IPython/core/ultratb.py\", line 311, in wrapped\n",
      "    return f(*args, **kwargs)\n",
      "  File \"/opt/anaconda/lib/python3.6/site-packages/IPython/core/ultratb.py\", line 345, in _fixed_getinnerframes\n",
      "    records = fix_frame_records_filenames(inspect.getinnerframes(etb, context))\n",
      "  File \"/opt/anaconda/lib/python3.6/inspect.py\", line 1483, in getinnerframes\n",
      "    frameinfo = (tb.tb_frame,) + getframeinfo(tb, context)\n",
      "  File \"/opt/anaconda/lib/python3.6/inspect.py\", line 1441, in getframeinfo\n",
      "    filename = getsourcefile(frame) or getfile(frame)\n",
      "  File \"/opt/anaconda/lib/python3.6/inspect.py\", line 696, in getsourcefile\n",
      "    if getattr(getmodule(object, filename), '__loader__', None) is not None:\n",
      "  File \"/opt/anaconda/lib/python3.6/inspect.py\", line 739, in getmodule\n",
      "    f = getabsfile(module)\n",
      "  File \"/opt/anaconda/lib/python3.6/inspect.py\", line 708, in getabsfile\n",
      "    _filename = getsourcefile(object) or getfile(object)\n",
      "  File \"/opt/anaconda/lib/python3.6/inspect.py\", line 693, in getsourcefile\n",
      "    if os.path.exists(filename):\n",
      "  File \"/opt/anaconda/lib/python3.6/genericpath.py\", line 19, in exists\n",
      "    os.stat(path)\n",
      "KeyboardInterrupt\n"
     ]
    },
    {
     "ename": "KeyboardInterrupt",
     "evalue": "",
     "output_type": "error",
     "traceback": [
      "\u001b[0;31m---------------------------------------------------------------------------\u001b[0m"
     ]
    }
   ],
   "source": [
    "bpic_2011_path = \"../logs/bpic2011.xes\"\n",
    "\n",
    "with open(bpic_2011_path) as bpic2011_file:\n",
    "    bpic2011_log = XUniversalParser().parse(bpic2011_file)[0]\n",
    "\n",
    "raw_trace = bpic2011_log[0]\n",
    "raw_event = raw_trace[0]\n",
    "raw_attributes = raw_event.get_attributes()\n",
    "\n"
   ]
  },
  {
   "cell_type": "code",
   "execution_count": null,
   "metadata": {},
   "outputs": [],
   "source": [
    "event_traces = [[ ev.get_attributes()[\"concept:name\"].get_value() for ev in trace ] for trace in bpic2011_log ]\n",
    "event_traces = list(itertools.chain.from_iterable(event_traces))"
   ]
  },
  {
   "cell_type": "code",
   "execution_count": null,
   "metadata": {},
   "outputs": [],
   "source": [
    "events = sorted(list(set(event_traces)))\n",
    "event_to_int = dict((c, i) for i, c in enumerate(events))\n",
    "int_to_event = dict((i,c) for i,c in enumerate(events))\n",
    "\n",
    "n_events = len(event_traces)\n",
    "n_vocab = len(events)\n",
    "\n",
    "print(\"Total events:\", n_events)\n",
    "print(\"Total number of event types:\", n_vocab)"
   ]
  },
  {
   "cell_type": "code",
   "execution_count": null,
   "metadata": {},
   "outputs": [],
   "source": [
    "# prepare the dataset of input to output pairs encoded as integers\n",
    "seq_length = 5\n",
    "dataX = []\n",
    "dataY = []\n",
    "\n",
    "for i in range(0, n_events - seq_length, 1):\n",
    "    seq_in  = event_traces[i:i + seq_length]\n",
    "    seq_out = event_traces[i + seq_length]\n",
    "    dataX.append([event_to_int[ev] for ev in seq_in])\n",
    "    dataY.append(event_to_int[seq_out])\n",
    "    \n",
    "n_patterns = len(dataX)\n",
    "print(\"Total Patterns:\", n_patterns)"
   ]
  },
  {
   "cell_type": "code",
   "execution_count": null,
   "metadata": {},
   "outputs": [],
   "source": [
    "# reshape X to be [samples, time steps, features]\n",
    "X = np.reshape(dataX, (n_patterns, seq_length, 1))\n",
    "# normalize\n",
    "X = X / float(n_vocab)\n",
    "# one hot encode the output variable\n",
    "y = keras.utils.np_utils.to_categorical(dataY)"
   ]
  },
  {
   "cell_type": "code",
   "execution_count": null,
   "metadata": {},
   "outputs": [],
   "source": [
    "# define the LSTM model\n",
    "model = keras.models.Sequential()\n",
    "model.add(keras.layers.LSTM(256, input_shape=(X.shape[1], X.shape[2])))\n",
    "model.add(keras.layers.Dropout(0.2))\n",
    "model.add(keras.layers.Dense(y.shape[1], activation='softmax'))\n",
    "model.compile(loss='categorical_crossentropy', optimizer='adam')"
   ]
  },
  {
   "cell_type": "code",
   "execution_count": null,
   "metadata": {},
   "outputs": [],
   "source": [
    "# define the checkpoint\n",
    "filepath=\"weights-improvement-{epoch:02d}-{loss:.4f}.hdf5\"\n",
    "checkpoint = keras.callbacks.ModelCheckpoint(filepath, monitor='loss', verbose=1, save_best_only=True, mode='min')\n",
    "callbacks_list = [checkpoint]"
   ]
  },
  {
   "cell_type": "code",
   "execution_count": null,
   "metadata": {},
   "outputs": [],
   "source": [
    "model.fit(X, y, epochs=2, batch_size=128, callbacks=callbacks_list)"
   ]
  },
  {
   "cell_type": "code",
   "execution_count": null,
   "metadata": {},
   "outputs": [],
   "source": [
    "model_filename = \"weights-improvement-02-3.3127.hdf5\"\n",
    "model.load_weights(model_filename)"
   ]
  },
  {
   "cell_type": "code",
   "execution_count": null,
   "metadata": {},
   "outputs": [],
   "source": [
    "prediction = model.predict(X)"
   ]
  },
  {
   "cell_type": "code",
   "execution_count": null,
   "metadata": {},
   "outputs": [],
   "source": [
    "prediction_index = [ np.argmax(p) for p in prediction ]"
   ]
  },
  {
   "cell_type": "code",
   "execution_count": null,
   "metadata": {},
   "outputs": [],
   "source": [
    "sum([prediction_index[i] == dataY[i] for i in prediction_index]) / len(prediction_index)"
   ]
  },
  {
   "cell_type": "code",
   "execution_count": null,
   "metadata": {},
   "outputs": [],
   "source": [
    "# Test prefixspan here\n",
    "from prefixspan import PrefixSpan\n",
    "\n",
    "event_sequences = [[ ev.get_attributes()[\"concept:name\"].get_value() for ev in trace ] for trace in bpic2011_log ]\n",
    "translated_sequences = [ [event_to_int[ev] for ev in trace] for trace in event_sequences]\n",
    "\n",
    "ps = PrefixSpan(translated_sequences)\n",
    "\n",
    "print(ps.frequent(3))"
   ]
  },
  {
   "cell_type": "code",
   "execution_count": null,
   "metadata": {},
   "outputs": [],
   "source": []
  },
  {
   "cell_type": "code",
   "execution_count": null,
   "metadata": {},
   "outputs": [],
   "source": []
  }
 ],
 "metadata": {
  "kernelspec": {
   "display_name": "Python 3",
   "language": "python",
   "name": "python3"
  },
  "language_info": {
   "codemirror_mode": {
    "name": "ipython",
    "version": 3
   },
   "file_extension": ".py",
   "mimetype": "text/x-python",
   "name": "python",
   "nbconvert_exporter": "python",
   "pygments_lexer": "ipython3",
   "version": "3.6.5"
  }
 },
 "nbformat": 4,
 "nbformat_minor": 2
}
