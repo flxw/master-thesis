{
 "cells": [
  {
   "cell_type": "code",
   "execution_count": 49,
   "metadata": {},
   "outputs": [],
   "source": [
    "import keras\n",
    "import pickle\n",
    "import random\n",
    "import numpy as np\n",
    "import pandas as pd\n",
    "import re\n",
    "import multiprocessing\n",
    "import os\n",
    "import seaborn as sns\n",
    "\n",
    "from tqdm import *\n",
    "from keras.models import Sequential, Model\n",
    "from keras.layers import Dense, Embedding, Input, Reshape, concatenate, Flatten, Activation, LSTM, Dropout, Lambda\n",
    "from keras.utils import np_utils"
   ]
  },
  {
   "cell_type": "code",
   "execution_count": 6,
   "metadata": {},
   "outputs": [],
   "source": [
    "##### CONFIGURATION SETUP ####\n",
    "data_path = \"../logs/bpic2011.xes\"\n",
    "os.environ['CUDA_VISIBLE_DEVICES'] = '0'\n",
    "target_variable = \"concept:name\"\n",
    "### CONFIGURATION SETUP END ###"
   ]
  },
  {
   "cell_type": "code",
   "execution_count": 7,
   "metadata": {},
   "outputs": [],
   "source": [
    "def load_trace_dataset(purpose='categorical', ttype='test'):\n",
    "    suffix = \"_{0}_{1}.pickled\".format(purpose, ttype)\n",
    "    p = data_path.replace(\".xes\", suffix)\n",
    "    return pickle.load(open(p, \"rb\"))"
   ]
  },
  {
   "cell_type": "code",
   "execution_count": 8,
   "metadata": {},
   "outputs": [],
   "source": [
    "train_traces = load_trace_dataset('categorical', 'train')\n",
    "train_targets = load_trace_dataset('target', 'train')\n",
    "test_traces = load_trace_dataset('categorical', 'test')\n",
    "test_targets = load_trace_dataset('target', 'test')\n",
    "feature_dict = load_trace_dataset('mapping', 'dict')"
   ]
  },
  {
   "cell_type": "markdown",
   "metadata": {},
   "source": [
    "## Model creation"
   ]
  },
  {
   "cell_type": "code",
   "execution_count": 11,
   "metadata": {},
   "outputs": [],
   "source": [
    "def schedule_lr(epoch):\n",
    "    if epoch >= 25:\n",
    "        return .75"
   ]
  },
  {
   "cell_type": "code",
   "execution_count": 274,
   "metadata": {},
   "outputs": [],
   "source": [
    "batch_size = 1 # None translates to unknown batch size\n",
    "# [samples, time steps, features]\n",
    "il = Input(batch_shape=(batch_size,None,1))\n",
    "main_output = Embedding(624, 500)(il)\n",
    "main_output = Reshape(target_shape=(-1,500))(main_output) # reshape layer does not need to know BATCH SIZE!!!\n",
    "\n",
    "# sizes should be multiple of 32 since it trains faster due to np.float32\n",
    "main_output = LSTM(500,\n",
    "                   batch_input_shape=(batch_size,None,1),\n",
    "                   stateful=False,\n",
    "                   return_sequences=True,\n",
    "                   unroll=False,\n",
    "                   kernel_initializer=keras.initializers.Zeros())(main_output)\n",
    "main_output = LSTM(500,\n",
    "                   stateful=False,\n",
    "                   return_sequences=True,\n",
    "                   unroll=False,\n",
    "                   kernel_initializer=keras.initializers.Zeros())(main_output)\n",
    "\n",
    "main_output = Dense(len(feature_dict[\"concept:name\"][\"to_int\"]), activation='softmax', name='dense_final')(main_output)\n",
    "\n",
    "full_model = Model(inputs=[il], outputs=[main_output])\n",
    "optimizerator = keras.optimizers.SGD(lr=1)\n",
    "\n",
    "full_model.compile(loss='categorical_crossentropy', optimizer=optimizerator, metrics=['categorical_accuracy', 'mae'])"
   ]
  },
  {
   "cell_type": "markdown",
   "metadata": {},
   "source": [
    "## Data preparation"
   ]
  },
  {
   "cell_type": "code",
   "execution_count": 254,
   "metadata": {},
   "outputs": [],
   "source": [
    "train_input_batches  = np.array([ t[target_variable].values.reshape((-1,1)) for t in train_traces ])\n",
    "train_target_batches = np.array([ t.values.reshape((-1,625)) for t in train_targets])"
   ]
  },
  {
   "cell_type": "markdown",
   "metadata": {},
   "source": [
    "## Model training"
   ]
  },
  {
   "cell_type": "code",
   "execution_count": 275,
   "metadata": {},
   "outputs": [
    {
     "name": "stderr",
     "output_type": "stream",
     "text": [
      "Epoch 1/2: 100%|██████████| 1/1 [00:04<00:00,  4.48s/it]\n"
     ]
    },
    {
     "name": "stdout",
     "output_type": "stream",
     "text": [
      "0.0\n"
     ]
    },
    {
     "name": "stderr",
     "output_type": "stream",
     "text": [
      "Epoch 2/2: 100%|██████████| 1/1 [00:00<00:00,  1.38it/s]"
     ]
    },
    {
     "name": "stdout",
     "output_type": "stream",
     "text": [
      "0.75\n"
     ]
    },
    {
     "name": "stderr",
     "output_type": "stream",
     "text": [
      "\n"
     ]
    }
   ],
   "source": [
    "n_epochs = 2\n",
    "for epoch in range(1,n_epochs+1):\n",
    "        mean_tr_acc  = []\n",
    "        mean_tr_loss = []\n",
    "        mean_tr_mae  = []\n",
    "        \n",
    "        for t_idx in tqdm(range(0, 1), desc=\"Epoch {0}/{1}\".format(epoch,n_epochs)):\n",
    "            batch_x = train_input_batches[t_idx].reshape((1,-1,1))\n",
    "            batch_y = train_target_batches[t_idx].reshape((1,-1,625))\n",
    "            \n",
    "            tr_loss, tr_acc, tr_mae = full_model.train_on_batch(batch_x, batch_y)\n",
    "            mean_tr_acc.append(tr_acc)\n",
    "            mean_tr_loss.append(tr_loss)\n",
    "            mean_tr_mae.append(tr_mae)\n",
    "\n",
    "        if epoch == 25: # why? See Implementation in evermann2016\n",
    "            keras.backend.set_value(full_model.optimizer.decay, .75)\n",
    "#         mean_tr_acc = round(np.mean(mean_tr_acc),3)\n",
    "#         print('Epoch {0} -- loss = {1:.5f} -- acc = {2:.5f}'.format(epoch,np.mean(mean_tr_loss), mean_tr_acc))"
   ]
  },
  {
   "cell_type": "markdown",
   "metadata": {},
   "source": [
    "## Model testing"
   ]
  },
  {
   "cell_type": "code",
   "execution_count": 4,
   "metadata": {},
   "outputs": [],
   "source": [
    "full_model = keras.models.load_model(\"../models/evermann_baseline_e27_acc18.500.h5\")"
   ]
  },
  {
   "cell_type": "code",
   "execution_count": 9,
   "metadata": {},
   "outputs": [],
   "source": [
    "test_input_batches  = np.array([ t[target_variable].values.reshape((-1,1)) for t in test_traces ])\n",
    "test_target_batches = np.array([ t.values.reshape((-1,625)) for t in test_targets])"
   ]
  },
  {
   "cell_type": "markdown",
   "metadata": {},
   "source": [
    "## Percentile-dependent precision?"
   ]
  },
  {
   "cell_type": "code",
   "execution_count": 62,
   "metadata": {},
   "outputs": [],
   "source": [
    "percentile_steps = 10\n",
    "percentile_matches  = [0] * percentile_steps\n",
    "percentile_elements = [0] * percentile_steps\n",
    "n_total_tests = sum([len(t) for t in test_input_batches])\n",
    "\n",
    "for x,y in zip(test_input_batches, test_target_batches):\n",
    "    y_hat = full_model.predict(x.reshape((1,-1,1)))[0]\n",
    "    current_percentile = 1\n",
    "    percentile_step = len(x) / percentile_steps\n",
    "    \n",
    "    # loop through predicted next steps and compare\n",
    "    for i in range(0,len(y)):\n",
    "        if i > (current_percentile * percentile_step):\n",
    "            current_percentile += 1\n",
    "            \n",
    "        # infer one-hot encoding and check if a prediction has been made correctly\n",
    "        if np.argmax(y_hat[i]) == np.argmax(y[i]):\n",
    "             # 0-based indexing, this is actually the 1st percentile\n",
    "            percentile_matches[current_percentile -1] += 1\n",
    "        percentile_elements[current_percentile -1] += 1\n",
    "            \n",
    "percentile_precisions = [p_m / p_t for p_m,p_t in zip(percentile_matches,percentile_elements)]"
   ]
  },
  {
   "cell_type": "code",
   "execution_count": 60,
   "metadata": {},
   "outputs": [
    {
     "data": {
      "text/plain": [
       "<matplotlib.axes._subplots.AxesSubplot at 0x7fa10efe0dd8>"
      ]
     },
     "execution_count": 60,
     "metadata": {},
     "output_type": "execute_result"
    },
    {
     "data": {
      "image/png": "[encoded data removed]",
      "text/plain": [
       "<Figure size 432x288 with 1 Axes>"
      ]
     },
     "metadata": {
      "needs_background": "light"
     },
     "output_type": "display_data"
    }
   ],
   "source": [
    "sns.barplot(x=list(range(1,percentile_steps+1)), y=percentile_precisions)"
   ]
  },
  {
   "cell_type": "code",
   "execution_count": 63,
   "metadata": {},
   "outputs": [
    {
     "data": {
      "text/plain": [
       "<matplotlib.axes._subplots.AxesSubplot at 0x7fa10ef6d7b8>"
      ]
     },
     "execution_count": 63,
     "metadata": {},
     "output_type": "execute_result"
    },
    {
     "data": {
      "image/png": "[encoded data removed]",
      "text/plain": [
       "<Figure size 432x288 with 1 Axes>"
      ]
     },
     "metadata": {
      "needs_background": "light"
     },
     "output_type": "display_data"
    }
   ],
   "source": [
    "sns.barplot(x=list(range(1,percentile_steps+1)), y=percentile_precisions)"
   ]
  }
 ],
 "metadata": {
  "kernelspec": {
   "display_name": "Python [conda env:thesis]",
   "language": "python",
   "name": "conda-env-thesis-py"
  },
  "language_info": {
   "codemirror_mode": {
    "name": "ipython",
    "version": 3
   },
   "file_extension": ".py",
   "mimetype": "text/x-python",
   "name": "python",
   "nbconvert_exporter": "python",
   "pygments_lexer": "ipython3",
   "version": "3.6.6"
  }
 },
 "nbformat": 4,
 "nbformat_minor": 2
}
