{
 "cells": [
  {
   "cell_type": "code",
   "execution_count": 1,
   "metadata": {},
   "outputs": [],
   "source": [
    "from opyenxes.model.XLog import XLog\n",
    "from opyenxes.data_in.XUniversalParser import XUniversalParser\n",
    "from opyenxes.classification.XEventAttributeClassifier import XEventAttributeClassifier\n",
    "import pandas as pd\n",
    "import numpy as np"
   ]
  },
  {
   "cell_type": "code",
   "execution_count": 2,
   "metadata": {},
   "outputs": [
    {
     "name": "stdout",
     "output_type": "stream",
     "text": [
      "Unknown extension: http://www.xes-standard.org/meta_3TU.xesext\n",
      "Unknown extension: http://www.xes-standard.org/meta_org.xesext\n",
      "Unknown extension: http://www.xes-standard.org/meta_time.xesext\n",
      "Unknown extension: http://www.xes-standard.org/meta_general.xesext\n",
      "Unknown extension: http://www.xes-standard.org/meta_life.xesext\n",
      "Unknown extension: http://www.xes-standard.org/meta_concept.xesext\n"
     ]
    }
   ],
   "source": [
    "bpic_2011_path = \"../logs/bpic2017.xes\"\n",
    "\n",
    "with open(bpic_2011_path) as bpic2011_file:\n",
    "    bpic2011_rlog = XUniversalParser().parse(bpic2011_file)"
   ]
  },
  {
   "cell_type": "code",
   "execution_count": 3,
   "metadata": {},
   "outputs": [],
   "source": [
    "bpic2011_log = bpic2011_rlog[0] # the rest of this array is empty anyway as len(bpic2011_rlog) == 1\n",
    "raw_trace = bpic2011_log[0]\n",
    "raw_event = raw_trace[0]\n",
    "raw_attributes = raw_event.get_attributes()"
   ]
  },
  {
   "cell_type": "markdown",
   "metadata": {},
   "source": [
    "## Attributes of the first event of the first trace"
   ]
  },
  {
   "cell_type": "code",
   "execution_count": 4,
   "metadata": {},
   "outputs": [
    {
     "name": "stdout",
     "output_type": "stream",
     "text": [
      "Action = Created\n",
      "org:resource = User_17\n",
      "concept:name = O_Create Offer\n",
      "EventOrigin = Offer\n",
      "EventID = Offer_247135719\n",
      "lifecycle:transition = complete\n",
      "time:timestamp = 2016-01-02 09:17:05.720000+00:00\n"
     ]
    }
   ],
   "source": [
    "for attribute in raw_attributes:\n",
    "    attribute = raw_attributes[attribute]\n",
    "    print(attribute.get_key(), \"=\", attribute.get_value())"
   ]
  },
  {
   "cell_type": "markdown",
   "metadata": {},
   "source": [
    "## All attributes of the first trace and their occurence along it"
   ]
  },
  {
   "cell_type": "code",
   "execution_count": 5,
   "metadata": {},
   "outputs": [],
   "source": [
    "# collect all attributes\n",
    "attribute_list = []\n",
    "\n",
    "for event in raw_trace:\n",
    "    event_attributes = event.get_attributes()\n",
    "    \n",
    "    for attribute in event_attributes:\n",
    "        attribute_list.append(attribute)\n",
    "        \n",
    "attribute_list = set(attribute_list) # remove duplicates\n",
    "\n",
    "event_indices = range(0,len(raw_trace))\n",
    "attribute_labels = attribute_list\n",
    "attribute_dict = {attr:[] for attr in attribute_list}\n",
    "\n",
    "trace_df = pd.DataFrame(columns=attribute_labels, index=event_indices)\n",
    "\n",
    "for event_idx,event in enumerate(raw_trace):\n",
    "    event_attributes = event.get_attributes()\n",
    "    for attribute in event_attributes:\n",
    "        trace_df.iloc[event_idx][attribute] = event_attributes[attribute].get_value()"
   ]
  },
  {
   "cell_type": "code",
   "execution_count": 6,
   "metadata": {},
   "outputs": [
    {
     "data": {
      "text/html": [
       "<div>\n",
       "<style scoped>\n",
       "    .dataframe tbody tr th:only-of-type {\n",
       "        vertical-align: middle;\n",
       "    }\n",
       "\n",
       "    .dataframe tbody tr th {\n",
       "        vertical-align: top;\n",
       "    }\n",
       "\n",
       "    .dataframe thead th {\n",
       "        text-align: right;\n",
       "    }\n",
       "</style>\n",
       "<table border=\"1\" class=\"dataframe\">\n",
       "  <thead>\n",
       "    <tr style=\"text-align: right;\">\n",
       "      <th></th>\n",
       "      <th>Action</th>\n",
       "      <th>time:timestamp</th>\n",
       "      <th>org:resource</th>\n",
       "      <th>EventID</th>\n",
       "      <th>OfferID</th>\n",
       "      <th>EventOrigin</th>\n",
       "      <th>lifecycle:transition</th>\n",
       "      <th>concept:name</th>\n",
       "    </tr>\n",
       "  </thead>\n",
       "  <tbody>\n",
       "    <tr>\n",
       "      <th>0</th>\n",
       "      <td>Created</td>\n",
       "      <td>2016-01-02 09:17:05.720000+00:00</td>\n",
       "      <td>User_17</td>\n",
       "      <td>Offer_247135719</td>\n",
       "      <td>NaN</td>\n",
       "      <td>Offer</td>\n",
       "      <td>complete</td>\n",
       "      <td>O_Create Offer</td>\n",
       "    </tr>\n",
       "    <tr>\n",
       "      <th>1</th>\n",
       "      <td>statechange</td>\n",
       "      <td>2016-01-02 09:17:08.762000+00:00</td>\n",
       "      <td>User_17</td>\n",
       "      <td>OfferState_124849367</td>\n",
       "      <td>Offer_247135719</td>\n",
       "      <td>Offer</td>\n",
       "      <td>complete</td>\n",
       "      <td>O_Created</td>\n",
       "    </tr>\n",
       "    <tr>\n",
       "      <th>2</th>\n",
       "      <td>statechange</td>\n",
       "      <td>2016-01-02 09:19:21.330000+00:00</td>\n",
       "      <td>User_17</td>\n",
       "      <td>OfferState_440662877</td>\n",
       "      <td>Offer_247135719</td>\n",
       "      <td>Offer</td>\n",
       "      <td>complete</td>\n",
       "      <td>O_Sent (online only)</td>\n",
       "    </tr>\n",
       "    <tr>\n",
       "      <th>3</th>\n",
       "      <td>statechange</td>\n",
       "      <td>2016-01-02 09:21:26.034000+00:00</td>\n",
       "      <td>User_17</td>\n",
       "      <td>OfferState_591416028</td>\n",
       "      <td>Offer_247135719</td>\n",
       "      <td>Offer</td>\n",
       "      <td>complete</td>\n",
       "      <td>O_Cancelled</td>\n",
       "    </tr>\n",
       "  </tbody>\n",
       "</table>\n",
       "</div>"
      ],
      "text/plain": [
       "        Action                    time:timestamp org:resource  \\\n",
       "0      Created  2016-01-02 09:17:05.720000+00:00      User_17   \n",
       "1  statechange  2016-01-02 09:17:08.762000+00:00      User_17   \n",
       "2  statechange  2016-01-02 09:19:21.330000+00:00      User_17   \n",
       "3  statechange  2016-01-02 09:21:26.034000+00:00      User_17   \n",
       "\n",
       "                EventID          OfferID EventOrigin lifecycle:transition  \\\n",
       "0       Offer_247135719              NaN       Offer             complete   \n",
       "1  OfferState_124849367  Offer_247135719       Offer             complete   \n",
       "2  OfferState_440662877  Offer_247135719       Offer             complete   \n",
       "3  OfferState_591416028  Offer_247135719       Offer             complete   \n",
       "\n",
       "           concept:name  \n",
       "0        O_Create Offer  \n",
       "1             O_Created  \n",
       "2  O_Sent (online only)  \n",
       "3           O_Cancelled  "
      ]
     },
     "execution_count": 6,
     "metadata": {},
     "output_type": "execute_result"
    }
   ],
   "source": [
    "trace_df"
   ]
  },
  {
   "cell_type": "code",
   "execution_count": 6,
   "metadata": {},
   "outputs": [],
   "source": [
    "# Test prefixspan here\n",
    "from prefixspan import PrefixSpan\n",
    "import itertools\n",
    "\n",
    "event_sequences = [[ ev.get_attributes()[\"concept:name\"].get_value() for ev in trace ] for trace in bpic2011_log ]\n",
    "combined_traces = list(itertools.chain.from_iterable(event_sequences))\n",
    "events = sorted(list(set(combined_traces)))\n",
    "event_to_int = dict((c, i) for i, c in enumerate(events))\n",
    "int_to_event = dict((i,c) for i,c in enumerate(events))\n",
    "\n",
    "translated_sequences = [ [event_to_int[ev] for ev in trace] for trace in event_sequences]\n",
    "\n",
    "ps = PrefixSpan(translated_sequences)"
   ]
  },
  {
   "cell_type": "code",
   "execution_count": 7,
   "metadata": {},
   "outputs": [],
   "source": [
    "def print_pattern(pt):\n",
    "    for p in pt:\n",
    "        print(\"Support: {0}%\".format(p[0]/len(translated_sequences)))\n",
    "        for n in p[1]:\n",
    "            print(\"    > \", int_to_event[n])\n",
    "        print()"
   ]
  },
  {
   "cell_type": "code",
   "execution_count": null,
   "metadata": {},
   "outputs": [
    {
     "name": "stdout",
     "output_type": "stream",
     "text": [
      "Top 10 closed prefixes\n",
      "Support: 0.9711286089238845%\n",
      "    >  administratief tarief       - eerste pol\n",
      "\n",
      "Support: 0.8381452318460193%\n",
      "    >  vervolgconsult poliklinisch\n",
      "\n",
      "Support: 0.7340332458442694%\n",
      "    >  administratief tarief       - eerste pol\n",
      "    >  vervolgconsult poliklinisch\n",
      "\n",
      "Support: 0.7034120734908137%\n",
      "    >  aanname laboratoriumonderzoek\n",
      "    >  ordertarief\n",
      "\n",
      "Support: 0.6692913385826772%\n",
      "    >  aanname laboratoriumonderzoek\n",
      "    >  aanname laboratoriumonderzoek\n",
      "    >  ordertarief\n",
      "\n",
      "Support: 0.6649168853893264%\n",
      "    >  vervolgconsult poliklinisch\n",
      "    >  vervolgconsult poliklinisch\n",
      "\n",
      "Support: 0.6377952755905512%\n",
      "    >  aanname laboratoriumonderzoek\n",
      "    >  hemoglobine foto-elektrisch\n",
      "    >  ordertarief\n",
      "\n",
      "Support: 0.6325459317585301%\n",
      "    >  aanname laboratoriumonderzoek\n",
      "    >  aanname laboratoriumonderzoek\n",
      "    >  hemoglobine foto-elektrisch\n",
      "    >  ordertarief\n",
      "\n",
      "Support: 0.6325459317585301%\n",
      "    >  aanname laboratoriumonderzoek\n",
      "    >  ordertarief\n",
      "    >  administratief tarief       - eerste pol\n",
      "\n",
      "Support: 0.6202974628171478%\n",
      "    >  aanname laboratoriumonderzoek\n",
      "    >  creatinine\n",
      "    >  ordertarief\n",
      "\n",
      "\n",
      "Top 10 prefixes\n",
      "Support: 0.9711286089238845%\n",
      "    >  administratief tarief       - eerste pol\n",
      "\n",
      "Support: 0.8381452318460193%\n",
      "    >  vervolgconsult poliklinisch\n",
      "\n",
      "Support: 0.7340332458442694%\n",
      "    >  administratief tarief       - eerste pol\n",
      "    >  vervolgconsult poliklinisch\n",
      "\n",
      "Support: 0.7034120734908137%\n",
      "    >  aanname laboratoriumonderzoek\n",
      "\n",
      "Support: 0.7034120734908137%\n",
      "    >  aanname laboratoriumonderzoek\n",
      "    >  ordertarief\n",
      "\n",
      "Support: 0.7034120734908137%\n",
      "    >  ordertarief\n",
      "\n",
      "Support: 0.6692913385826772%\n",
      "    >  aanname laboratoriumonderzoek\n",
      "    >  aanname laboratoriumonderzoek\n",
      "\n",
      "Support: 0.6692913385826772%\n",
      "    >  aanname laboratoriumonderzoek\n",
      "    >  aanname laboratoriumonderzoek\n",
      "    >  ordertarief\n",
      "\n",
      "Support: 0.6649168853893264%\n",
      "    >  vervolgconsult poliklinisch\n",
      "    >  vervolgconsult poliklinisch\n",
      "\n",
      "Support: 0.6377952755905512%\n",
      "    >  aanname laboratoriumonderzoek\n",
      "    >  hemoglobine foto-elektrisch\n",
      "    >  ordertarief\n",
      "\n"
     ]
    }
   ],
   "source": [
    "ps_topkc = ps.topk(10, closed=True)\n",
    "print(\"Top 10 closed prefixes\")\n",
    "print_pattern(ps_topkc)\n",
    "\n",
    "ps_topk  = ps.topk(10)\n",
    "print(\"\\nTop 10 prefixes\")\n",
    "print_pattern(ps_topk)\n",
    "    \n",
    "#print(\"\\nTop 10 generator prefixes\")\n",
    "#for p in ps_topg:  print(p)\n",
    "\n",
    "#print(\"\\nLength 2 prefixes\")\n",
    "#for p in ps_freq2: print(p)\n",
    "    \n",
    "#print(\"\\nLength 3 prefixes\")\n",
    "#for p in ps_freq3: print(p)\n",
    "\n",
    "ps_freq4 = ps.frequent(4, closed=True)\n",
    "print(\"\\nLength 4 prefixes\")\n",
    "for p in ps_freq4: print(p)"
   ]
  }
 ],
 "metadata": {
  "kernelspec": {
   "display_name": "Python [conda env:thesis-notebook]",
   "language": "python",
   "name": "conda-env-thesis-notebook-py"
  },
  "language_info": {
   "codemirror_mode": {
    "name": "ipython",
    "version": 3
   },
   "file_extension": ".py",
   "mimetype": "text/x-python",
   "name": "python",
   "nbconvert_exporter": "python",
   "pygments_lexer": "ipython3",
   "version": "3.6.6"
  }
 },
 "nbformat": 4,
 "nbformat_minor": 2
}
