{
 "cells": [
  {
   "cell_type": "code",
   "execution_count": 1,
   "metadata": {},
   "outputs": [],
   "source": [
    "import numpy as np\n",
    "import chainer\n",
    "from chainer.backends import cuda\n",
    "from chainer import Function, gradient_check, report, training, utils, Variable\n",
    "from chainer import datasets, iterators, optimizers, serializers\n",
    "from chainer import Link, Chain, ChainList\n",
    "import chainer.functions as F\n",
    "import chainer.links as L\n",
    "from chainer.training import extensions\n",
    "import random\n",
    "import itertools\n",
    "\n",
    "from opyenxes.model.XLog import XLog\n",
    "from opyenxes.data_in.XUniversalParser import XUniversalParser\n",
    "from opyenxes.classification.XEventAttributeClassifier import XEventAttributeClassifier"
   ]
  },
  {
   "cell_type": "code",
   "execution_count": 13,
   "metadata": {},
   "outputs": [
    {
     "name": "stdout",
     "output_type": "stream",
     "text": [
      "GPU :0\n"
     ]
    }
   ],
   "source": [
    "try:\n",
    "    gpu_no = 0\n",
    "    cuda.check_cuda_available()\n",
    "    cuda.get_device(gpu_no).use()\n",
    "    import cupy\n",
    "    print(\"GPU :\"+str(gpu_no))\n",
    "    xp = cupy\n",
    "except:\n",
    "    xp = np"
   ]
  },
  {
   "cell_type": "code",
   "execution_count": 3,
   "metadata": {},
   "outputs": [
    {
     "name": "stdout",
     "output_type": "stream",
     "text": [
      "Unknown extension: http://www.xes-standard.org/meta_time.xesext\n",
      "Unknown extension: http://www.xes-standard.org/meta_life.xesext\n",
      "Unknown extension: http://www.xes-standard.org/meta_org.xesext\n",
      "Unknown extension: http://www.xes-standard.org/meta_concept.xesext\n",
      "Unknown extension: http://www.xes-standard.org/meta_3TU.xesext\n",
      "Unknown extension: http://www.xes-standard.org/meta_general.xesext\n"
     ]
    }
   ],
   "source": [
    "bpic_2011_path = \"../logs/bpic2011.xes\"\n",
    "\n",
    "with open(bpic_2011_path) as bpic2011_file:\n",
    "    bpic2011_rlog = XUniversalParser().parse(bpic2011_file)\n",
    "\n",
    "bpic2011_log = bpic2011_rlog[0] # the rest of this array is empty anyway as len(bpic2011_rlog) == 1"
   ]
  },
  {
   "cell_type": "markdown",
   "metadata": {},
   "source": [
    "## Dataset and Iterator Setup"
   ]
  },
  {
   "cell_type": "code",
   "execution_count": 14,
   "metadata": {},
   "outputs": [],
   "source": [
    "# use a generator for the generation of every sample\n",
    "def window_features(traces,windowsize):\n",
    "    for trace in traces:\n",
    "        for event_i in range(0, len(trace)-windowsize+1):\n",
    "            yield([event_to_int[trace[i]] for i in range(event_i, event_i+windowsize)])\n",
    "            \n",
    "# extract evet names and terminate with beginning and end features\n",
    "event_traces = [[ ev.get_attributes()[\"concept:name\"].get_value() for ev in trace ] for trace in bpic2011_log ]\n",
    "event_traces = [ ['<bos>'] + l + ['<eos>'] for l in event_traces ]\n",
    "\n",
    "# generate word mappings to IDs\n",
    "events       = sorted(list(set(itertools.chain.from_iterable(event_traces)))) \n",
    "event_to_int = dict((c, i) for i, c in enumerate(events))\n",
    "int_to_event = dict((i,c) for i,c in enumerate(events))\n",
    "\n",
    "random.shuffle(event_traces)\n",
    "train_traces = event_traces[:int(.8*len(event_traces))]\n",
    "test_traces  = event_traces[int(.8*len(event_traces)):]\n",
    "\n",
    "trace_dt = xp.float32\n",
    "train_traces = xp.array([ w for w in window_features(train_traces, 5) ], dtype=trace_dt)\n",
    "test_traces  = xp.array([ w for w in window_features(test_traces, 5) ],  dtype=trace_dt)\n",
    "\n",
    "train_x = train_traces[:, :4] #  extract all columns but the first from all rows\n",
    "train_y = (train_traces[:, 4][:, None]).flatten().astype(xp.int32) # extract only the first column and put each element into an array of its own\n",
    "\n",
    "test_x = test_traces[:, :4] #  extract all columns but the first from all rows\n",
    "test_y = (test_traces[:, 4][:, None]).flatten().astype(xp.int32) # extract only the first column and put each element into an array of its own\n",
    "\n",
    "train_ds = datasets.TupleDataset(train_x, train_y)\n",
    "test_ds  = datasets.TupleDataset(test_x, test_y)\n",
    "\n",
    "train_iter = chainer.iterators.SerialIterator(train_ds, 100, repeat=True, shuffle=False)\n",
    "test_iter  = chainer.iterators.SerialIterator(test_ds,  100, repeat=False, shuffle=False)"
   ]
  },
  {
   "cell_type": "markdown",
   "metadata": {},
   "source": [
    "## Neural Network Modeling"
   ]
  },
  {
   "cell_type": "code",
   "execution_count": 16,
   "metadata": {},
   "outputs": [],
   "source": [
    "class RNN(Chain):\n",
    "    def __init__(self,n_in,n_out):\n",
    "        super(RNN, self).__init__()\n",
    "        with self.init_scope():\n",
    "            layer = chainer.Sequential(L.Linear(n_in), F.relu)\n",
    "            self.model = layer.repeat(2)\n",
    "            self.model.append(L.Linear(n_out))\n",
    "            #self.l1 = L.Linear(2*n_in)\n",
    "            #self.l2 = L.Linear(250)\n",
    "            #self.l3 = L.Linear(n_out)\n",
    "\n",
    "\n",
    "    def __call__(self, x):\n",
    "        return self.model(x)\n",
    "        #h1 = F.relu(self.l1(x))\n",
    "        #h2 = F.relu(self.l2(h1))\n",
    "        #return self.l3(h2)\n",
    "\n",
    "def dummy(x, t):\n",
    "    #print(x, t)\n",
    "    return F.accuracy(x, t)\n",
    "    \n",
    "rnn   = RNN(4, len(events))\n",
    "model = L.Classifier(rnn, accfun=F.accuracy)\n",
    "optimizer = optimizers.SGD().setup(model)"
   ]
  },
  {
   "cell_type": "markdown",
   "metadata": {},
   "source": [
    "## Linking Iterator And Optimizer together"
   ]
  },
  {
   "cell_type": "code",
   "execution_count": 17,
   "metadata": {},
   "outputs": [
    {
     "name": "stdout",
     "output_type": "stream",
     "text": [
      "epoch       main/loss   validation/main/loss  main/accuracy  validation/main/accuracy  elapsed_time\n",
      "\u001b[J1           6.31406     6.07823               0.0967788      0.0916153                 5.52641       \n",
      "\u001b[J2           5.89565     5.74788               0.0969078      0.0916153                 10.941        \n",
      "\u001b[J3           5.58184     5.47222               0.0969407      0.0916153                 16.379        \n",
      "\u001b[J4           5.33415     5.2672                0.0969242      0.0916153                 21.787        \n",
      "\u001b[J5           5.15595     5.12208               0.0969104      0.0916153                 27.2307       \n",
      "\u001b[J6           5.02793     5.01637               0.0969159      0.0916153                 32.667        \n",
      "\u001b[J7           4.93254     4.9351                0.0969325      0.0916153                 38.1077       \n",
      "\u001b[J8           4.8573      4.86951               0.0969407      0.0916153                 43.473        \n",
      "\u001b[J9           4.79547     4.81482               0.096916       0.0916153                 48.9792       \n",
      "\u001b[J10          4.74368     4.76829               0.0969185      0.0916153                 54.4336       \n",
      "\u001b[J11          4.69828     4.72823               0.0969078      0.0916153                 59.8479       \n",
      "\u001b[J12          4.65929     4.69331               0.0969406      0.0916153                 65.2436       \n",
      "\u001b[J13          4.62513     4.66249               0.0969242      0.0916153                 70.6833       \n",
      "\u001b[J14          4.59535     4.63495               0.0969104      0.0916153                 76.1219       \n",
      "\u001b[J15          4.56755     4.61013               0.0969159      0.0916153                 81.5688       \n",
      "\u001b[J16          4.54295     4.58755               0.0969325      0.0916153                 86.9925       \n",
      "\u001b[J17          4.5206      4.56685               0.0969407      0.0916153                 92.4319       \n",
      "\u001b[J18          4.5001      4.54778               0.0969161      0.0916153                 97.8742       \n",
      "\u001b[J19          4.48173     4.53011               0.0969185      0.0916153                 103.353       \n",
      "\u001b[J20          4.46376     4.51375               0.0969078      0.0916153                 108.819       \n",
      "\u001b[J21          4.44762     4.49853               0.0969406      0.0916153                 114.322       \n",
      "\u001b[J22          4.43257     4.48434               0.0969407      0.0916153                 119.751       \n",
      "\u001b[J23          4.41923     4.47109               0.096894       0.0916153                 125.194       \n",
      "\u001b[J24          4.40564     4.45872               0.096916       0.0916153                 130.599       \n",
      "\u001b[J25          4.39348     4.44715               0.0969324      0.0916153                 136.055       \n",
      "\u001b[J26          4.3822      4.43631               0.0969407      0.0916153                 141.547       \n",
      "\u001b[J27          4.37159     4.42615               0.0969161      0.0916153                 146.993       \n",
      "\u001b[J28          4.3621      4.4166                0.0969186      0.0916153                 152.43        \n",
      "\u001b[J29          4.35231     4.40764               0.0969079      0.0916153                 157.874       \n",
      "\u001b[J30          4.34359     4.39922               0.0969407      0.0916153                 163.318       \n",
      "\u001b[J31          4.33531     4.39129               0.0969407      0.0916153                 168.807       \n",
      "\u001b[J32          4.32808     4.38381               0.096894       0.0916153                 174.266       \n",
      "\u001b[J33          4.32028     4.37677               0.096916       0.0916153                 179.991       \n",
      "\u001b[J34          4.31335     4.37011               0.0969324      0.0916153                 185.62        \n",
      "\u001b[J35          4.30693     4.36383               0.0969407      0.0916153                 191.019       \n",
      "\u001b[J36          4.30074     4.35789               0.0969243      0.0916153                 196.536       \n",
      "\u001b[J37          4.29539     4.35225               0.0969104      0.0916153                 201.963       \n",
      "\u001b[J38          4.28941     4.34692               0.0969079      0.0916153                 207.421       \n",
      "\u001b[J39          4.28414     4.34186               0.0969407      0.0916153                 212.911       \n",
      "\u001b[J40          4.27917     4.33706               0.0969407      0.0916153                 218.334       \n",
      "\u001b[J41          4.27493     4.33249               0.0968939      0.0916153                 223.824       \n",
      "\u001b[J42          4.26997     4.32815               0.0969324      0.0916153                 229.253       \n",
      "\u001b[J43          4.26569     4.32402               0.096916       0.0916153                 234.681       \n",
      "\u001b[J44          4.26169     4.32008               0.0969407      0.0916153                 240.087       \n",
      "\u001b[J45          4.25773     4.31632               0.0969243      0.0916153                 245.499       \n",
      "\u001b[J46          4.25451     4.31273               0.0969104      0.0916153                 250.959       \n",
      "\u001b[J47          4.25044     4.3093                0.096916       0.0916153                 256.403       \n",
      "\u001b[J48          4.24705     4.30603               0.0969325      0.0916153                 261.823       \n",
      "\u001b[J49          4.2438      4.30289               0.0969407      0.0916153                 267.352       \n",
      "\u001b[J50          4.24075     4.29989               0.096916       0.0916153                 272.81        \n"
     ]
    }
   ],
   "source": [
    "updater = training.StandardUpdater(train_iter, optimizer, device=0)\n",
    "trainer = training.Trainer(updater, (50, 'epoch'), out='result')\n",
    "\n",
    "trainer.extend(extensions.LogReport())\n",
    "trainer.extend(extensions.PrintReport(\n",
    "    ['epoch', 'main/loss', 'validation/main/loss',\n",
    "     'main/accuracy', 'validation/main/accuracy', 'elapsed_time']))\n",
    "trainer.extend(extensions.Evaluator(test_iter, model, device=0))\n",
    "\n",
    "model.to_gpu()\n",
    "trainer.run()"
   ]
  },
  {
   "cell_type": "code",
   "execution_count": null,
   "metadata": {},
   "outputs": [],
   "source": []
  }
 ],
 "metadata": {
  "kernelspec": {
   "display_name": "Python [conda env:thesis]",
   "language": "python",
   "name": "conda-env-thesis-py"
  },
  "language_info": {
   "codemirror_mode": {
    "name": "ipython",
    "version": 3
   },
   "file_extension": ".py",
   "mimetype": "text/x-python",
   "name": "python",
   "nbconvert_exporter": "python",
   "pygments_lexer": "ipython3",
   "version": "3.6.6"
  }
 },
 "nbformat": 4,
 "nbformat_minor": 2
}
